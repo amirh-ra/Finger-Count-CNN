{
 "cells": [
  {
   "cell_type": "markdown",
   "metadata": {},
   "source": [
    "# Convolutional Neural Networks\n",
    "\n",
    "In this notebook, you will:\n",
    "\n",
    "- Implement a CNN model from the scratch for image classification.\n",
    "- Use a pretrained model and Transfer learning to solve above classification problem.\n",
    "\n",
    "As usual, we will start by loading the packages."
   ]
  },
  {
   "cell_type": "code",
   "execution_count": 2,
   "metadata": {},
   "outputs": [],
   "source": [
    "import numpy as np\n",
    "import h5py\n",
    "import matplotlib.pyplot as plt\n",
    "## Feel free to add pakages depending of your selected frame work. \n",
    "%matplotlib inline\n",
    "np.random.seed(1)"
   ]
  },
  {
   "cell_type": "code",
   "execution_count": 3,
   "metadata": {},
   "outputs": [],
   "source": [
    "def load_dataset():\n",
    "    train_dataset = h5py.File('datasets/train.h5', \"r\")\n",
    "    train_set_x_orig = np.array(train_dataset[\"train_set_x\"][:]) # your train set features\n",
    "    train_set_y_orig = np.array(train_dataset[\"train_set_y\"][:]) # your train set labels\n",
    "\n",
    "    test_dataset = h5py.File('datasets/test.h5', \"r\")\n",
    "    test_set_x_orig = np.array(test_dataset[\"test_set_x\"][:]) # your test set features\n",
    "    test_set_y_orig = np.array(test_dataset[\"test_set_y\"][:]) # your test set labels\n",
    "\n",
    "    classes = np.array(test_dataset[\"list_classes\"][:]) # the list of classes\n",
    "    \n",
    "    train_set_y_orig = train_set_y_orig.reshape((1, train_set_y_orig.shape[0]))\n",
    "    test_set_y_orig = test_set_y_orig.reshape((1, test_set_y_orig.shape[0]))\n",
    "    \n",
    "    return train_set_x_orig, train_set_y_orig, test_set_x_orig, test_set_y_orig, classes"
   ]
  },
  {
   "cell_type": "markdown",
   "metadata": {},
   "source": [
    "Run the next cell to load the dataset you are going to use."
   ]
  },
  {
   "cell_type": "code",
   "execution_count": 4,
   "metadata": {},
   "outputs": [],
   "source": [
    "# Loading the data (signs)\n",
    "X_train_orig, Y_train_orig, X_test_orig, Y_test_orig, classes = load_dataset()"
   ]
  },
  {
   "cell_type": "markdown",
   "metadata": {},
   "source": [
    "The next cell will show you an example of a labelled image in the dataset. Feel free to change the value of `index` below and re-run to see different examples. "
   ]
  },
  {
   "cell_type": "code",
   "execution_count": 5,
   "metadata": {},
   "outputs": [
    {
     "name": "stdout",
     "output_type": "stream",
     "text": [
      "y = 3\n"
     ]
    },
    {
     "data": {
      "image/png": "[encoded data removed]",
      "text/plain": [
       "<Figure size 640x480 with 1 Axes>"
      ]
     },
     "metadata": {},
     "output_type": "display_data"
    }
   ],
   "source": [
    "# Example of a picture\n",
    "index = 100\n",
    "plt.imshow(X_train_orig[index])\n",
    "print (\"y = \" + str(np.squeeze(Y_train_orig[:, index])))"
   ]
  },
  {
   "cell_type": "markdown",
   "metadata": {},
   "source": [
    "From now implemnt your model. After that use transfer learning.\n",
    "Please add cells and explain yours developing steps and your results.\n",
    "\n",
    "استفاده از زبان فارسی برای توضیحات هم مجاز است\n",
    "\n",
    "موفق باشید"
   ]
  },
  {
   "cell_type": "code",
   "execution_count": 26,
   "metadata": {},
   "outputs": [],
   "source": [
    "import pandas as pd\n",
    "from dataprep.eda import create_report\n",
    "from dataprep.eda import plot_missing\n",
    "from dataprep.eda import plot_correlation\n",
    "from dataprep.eda import plot\n",
    "import torch \n",
    "from torch import nn \n",
    "import pytorch_lightning as pl \n",
    "import torch.nn.functional as F \n",
    "from torchvision import datasets, transforms \n",
    "from torch.utils.data import DataLoader, Subset, Dataset\n",
    "from torch.optim import SGD \n",
    "from pytorch_lightning import Trainer, loggers\n",
    "import numpy as np\n",
    "from PIL import Image"
   ]
  },
  {
   "cell_type": "code",
   "execution_count": 24,
   "metadata": {},
   "outputs": [],
   "source": [
    "# normalization constants\n",
    "MEAN = torch.tensor([0.5,0.5,0.5], dtype=torch.float32)\n",
    "STD = torch.tensor([0.5,0.5,0.5], dtype=torch.float32)"
   ]
  },
  {
   "cell_type": "code",
   "execution_count": 16,
   "metadata": {},
   "outputs": [
    {
     "data": {
      "text/plain": [
       "<bound method NDFrame.head of       0\n",
       "0     5\n",
       "1     0\n",
       "2     2\n",
       "3     5\n",
       "4     2\n",
       "...  ..\n",
       "1075  3\n",
       "1076  1\n",
       "1077  2\n",
       "1078  4\n",
       "1079  5\n",
       "\n",
       "[1080 rows x 1 columns]>"
      ]
     },
     "execution_count": 16,
     "metadata": {},
     "output_type": "execute_result"
    }
   ],
   "source": [
    "a = pd.DataFrame(Y_train_orig.T)\n",
    "a.head"
   ]
  },
  {
   "cell_type": "code",
   "execution_count": 18,
   "metadata": {},
   "outputs": [
    {
     "data": {
      "text/plain": [
       "(64, 64, 3)"
      ]
     },
     "execution_count": 18,
     "metadata": {},
     "output_type": "execute_result"
    }
   ],
   "source": [
    "X_train_orig[index].shape"
   ]
  },
  {
   "cell_type": "markdown",
   "metadata": {},
   "source": [
    "Training Dataset Consists of 1080 photos of 64*64*3 images in 10 classes of 426 items each"
   ]
  },
  {
   "cell_type": "code",
   "execution_count": 27,
   "metadata": {},
   "outputs": [],
   "source": [
    "class MyDataset(Dataset):\n",
    "    def __init__(self, data, targets, transform=None):\n",
    "        self.data = data\n",
    "        self.targets = torch.LongTensor(targets)\n",
    "        self.transform = transform\n",
    "        \n",
    "    def __getitem__(self, index):\n",
    "        x = self.data[index]\n",
    "        y = self.targets[index]\n",
    "        \n",
    "        if self.transform:\n",
    "            x = Image.fromarray(self.data[index].astype(np.uint8).transpose(1,2,0))\n",
    "            x = self.transform(x)\n",
    "        \n",
    "        return x, y\n",
    "    \n",
    "    def __len__(self):\n",
    "        return len(self.data)\n"
   ]
  },
  {
   "cell_type": "code",
   "execution_count": null,
   "metadata": {},
   "outputs": [],
   "source": [
    "class CNN(pl.LightningModule): \n",
    "    def __init__(self): \n",
    "        #super(model, self).__init__() \n",
    "        super().__init__()\n",
    "        self.hparams['data_root'] = \"data\"\n",
    "        self.hparams['log_dir'] = \"logs\"\n",
    "        self.hparams['num_workers'] = 4\n",
    "        self.hparams['image_size'] = 32\n",
    "        self.hparams['max_epochs'] = 10\n",
    "        self.hparams['batch_size'] = 64\n",
    "        self.hparams['nc'] = 3\n",
    "        self.hparams['nz'] = 36\n",
    "        self.hparams['nfc'] = 9\n",
    "        self.hparams['nfm'] = 10\n",
    "        self.hparams['lr'] = 0.01\n",
    "        self.hparams['gpus'] = 1\n",
    "        self.hparams['validation_splitratio'] = 0.85\n",
    "        self.criterion = nn.CrossEntropyLoss() \n",
    "        \n",
    "        self.MLP = nn.Sequential(\n",
    "            nn.Linear(self.hparams.nz, 64),\n",
    "            nn.ReLU(),\n",
    "            nn.Linear(64, 16),\n",
    "            nn.ReLU(),\n",
    "            nn.Linear(16, self.hparams.nfm) \n",
    "            )\n",
    "        \n",
    "        self.CNN = nn.Sequential(\n",
    "            nn.Conv2d(self.hparams.nc, self.hparams.nfc, 4, 2, 1, bias=False),#nc*32*32 --> 16*16*9\n",
    "            nn.ReLU(),\n",
    "            nn.MaxPool2d(2, 2),#8*8*9\n",
    "            nn.Conv2d(self.hparams.nfc, self.hparams.nfc * 2, 4, 2, 1, bias=False), #4*4*18\n",
    "            nn.ReLU(),\n",
    "            nn.MaxPool2d(2, 2),#2*2*18\n",
    "            nn.Conv2d(self.hparams.nfc * 4, self.hparams.nz, 2, 1, 0, bias=False),#1*1*10,\n",
    "            nn.ReLU(),\n",
    "        )\n",
    "        \n",
    "\n",
    "    \n",
    "    def forward(self, x): \n",
    "        batch_size, _, _, _ = x.size()\n",
    "        x = self.MLP(self.CNN(x))\n",
    "        return x \n",
    "    \n",
    "    def configure_optimizers(self): \n",
    "        return torch.optim.SGD(self.parameters(), lr=self.hparams.lr) \n",
    "\n",
    "    def training_step(self, train_batch, batch_idx): \n",
    "        x, y = train_batch \n",
    "        output = self.forward(x) \n",
    "        loss = self.criterion(output, y) \n",
    "        \n",
    "        logs = {\"loss\": loss}\n",
    "        return {\"loss\": loss, \"log\": logs}\n",
    "    \n",
    "    def validation_step(self, valid_batch, batch_idx): \n",
    "        x, y = valid_batch \n",
    "        output = self.forward(x) \n",
    "        loss = self.criterion(output, y)\n",
    "        \n",
    "        logs = {\"val_loss\": loss}\n",
    "        return {\"val_loss\": loss, \"log\": logs}\n",
    "    \n",
    "    def validation_epoch_end(self, outputs):\n",
    "        avg_loss = torch.stack([x[\"val_loss\"] for x in outputs]).mean()\n",
    "        logs = {\"avg_val_loss\": avg_loss}\n",
    "        return {\"avg_val_loss\": avg_loss, \"log\": logs}\n",
    "    \n",
    "    def test_step(self, test_batch, batch_idx):\n",
    "        x, y = batch\n",
    "        output = self.forward(x)\n",
    "        loss = self.criterion(output, x)\n",
    "\n",
    "        logs = {\"test_loss\": loss}\n",
    "        return {\"test_loss\": loss, \"log\": logs}\n",
    "    \n",
    "    def test_epoch_end(self, outputs):\n",
    "        avg_loss = torch.stack([x[\"test_loss\"] for x in outputs]).mean()\n",
    "        logs = {\"avg_test_loss\": avg_loss}\n",
    "        return {\"avg_test_loss\": avg_loss, \"log\": logs}\n",
    "        \n",
    "    def prepare_data(self):\n",
    "        transform = transforms.Compose(\n",
    "            [\n",
    "                transforms.Resize(self.hparams.image_size),\n",
    "                transforms.CenterCrop(self.hparams.image_size),\n",
    "                transforms.ToTensor(),\n",
    "                transforms.Normalize(MEAN.tolist(), STD.tolist()),\n",
    "            ]\n",
    "        )\n",
    "        #dataset = ImageFolder(root=self.hparams.data_root, transform=transform)\n",
    "        dataset = MNIST(root='../input/data', download=True, transform=transform)\n",
    "        \n",
    "        Train_dataset = MyDataset(X_train_orig, Y_train_orig, transform=transform)\n",
    "        Test_dataset = MyDataset(X_test_orig, Y_test_orig, transform=transform)\n",
    "\n",
    "\n",
    "        # train, val and test split\n",
    "        end_train_idx = len(dataset)*self.hparams.validation_splitratio\n",
    "        end_val_idx = len(dataset)\n",
    "\n",
    "        self.train_dataset = Subset(Train_dataset, range(0, end_train_idx))\n",
    "        self.val_dataset = Subset(Train_dataset, range(end_train_idx + 1, end_val_idx))\n",
    "        self.test_dataset = Test_dataset\n",
    "        \n",
    "    def train_dataloader(self):\n",
    "        return DataLoader(\n",
    "            self.train_dataset, batch_size=self.hparams.batch_size, shuffle=True, num_workers=self.hparams.num_workers\n",
    "        )\n",
    "\n",
    "    def val_dataloader(self):\n",
    "        return DataLoader(\n",
    "            self.val_dataset, batch_size=self.hparams.batch_size, num_workers=self.hparams.num_workers\n",
    "        )\n",
    "\n",
    "    def test_dataloader(self):\n",
    "        return DataLoader(\n",
    "            self.test_dataset, batch_size=self.hparams.batch_size, num_workers=self.hparams.num_workers\n",
    "        )"
   ]
  },
  {
   "cell_type": "code",
   "execution_count": null,
   "metadata": {},
   "outputs": [],
   "source": [
    "clf = CNN()\n",
    "logger = loggers.TensorBoardLogger(model.hparams.log_dir, name=f\"bs{model.hparams.batch_size}_nf{model.hparams.nfe}\")\n",
    "\n",
    "# print detailed summary with estimated network size\n",
    "summary(clf, (clf.hparams.nc, clf.hparams.image_size, clf.hparams.image_size), device=\"cpu\")\n",
    "\n",
    "trainer = Trainer(logger=logger, accelerator='cuda', devices=model.hparams.gpus, max_epochs=model.hparams.max_epochs)\n",
    "trainer.fit(clf)"
   ]
  },
  {
   "cell_type": "code",
   "execution_count": null,
   "metadata": {},
   "outputs": [],
   "source": [
    "torch.save(clf.state_dict(), 'outputs/CNN.pth')"
   ]
  },
  {
   "cell_type": "code",
   "execution_count": null,
   "metadata": {},
   "outputs": [],
   "source": [
    "trainer.test(clf)"
   ]
  },
  {
   "cell_type": "markdown",
   "metadata": {},
   "source": [
    "#Load Saved Model"
   ]
  },
  {
   "cell_type": "code",
   "execution_count": null,
   "metadata": {},
   "outputs": [],
   "source": [
    "clf = CNN()\n",
    "clf.load_state_dict(torch.load('outputs/CNN.pth', map_location=torch.device('cuda')))\n",
    "clf.eval()"
   ]
  }
 ],
 "metadata": {
  "kernelspec": {
   "display_name": "Python 3 (ipykernel)",
   "language": "python",
   "name": "python3"
  },
  "language_info": {
   "codemirror_mode": {
    "name": "ipython",
    "version": 3
   },
   "file_extension": ".py",
   "mimetype": "text/x-python",
   "name": "python",
   "nbconvert_exporter": "python",
   "pygments_lexer": "ipython3",
   "version": "3.9.13"
  }
 },
 "nbformat": 4,
 "nbformat_minor": 4
}
