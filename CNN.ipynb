{
 "cells": [
  {
   "cell_type": "markdown",
   "metadata": {
    "id": "HBIc-0D8kfpt"
   },
   "source": [
    "# Convolutional Neural Networks\n",
    "\n",
    "In this notebook, you will:\n",
    "\n",
    "- Implement a CNN model from the scratch for image classification.\n",
    "- Use a pretrained model and Transfer learning to solve above classification problem.\n",
    "\n",
    "As usual, we will start by loading the packages."
   ]
  },
  {
   "cell_type": "code",
   "execution_count": 18,
   "metadata": {
    "id": "lWA1sqCWkfpx"
   },
   "outputs": [],
   "source": [
    "import numpy as np\n",
    "import h5py\n",
    "import matplotlib.pyplot as plt\n",
    "## Feel free to add pakages depending of your selected frame work. \n",
    "%matplotlib inline\n",
    "np.random.seed(1)"
   ]
  },
  {
   "cell_type": "code",
   "execution_count": 19,
   "metadata": {
    "id": "lfCZzi1akfpz"
   },
   "outputs": [],
   "source": [
    "def load_dataset():\n",
    "    train_dataset = h5py.File('datasets/train.h5', \"r\")\n",
    "    train_set_x_orig = np.array(train_dataset[\"train_set_x\"][:]) # your train set features\n",
    "    train_set_y_orig = np.array(train_dataset[\"train_set_y\"][:]) # your train set labels\n",
    "\n",
    "    test_dataset = h5py.File('datasets/test.h5', \"r\")\n",
    "    test_set_x_orig = np.array(test_dataset[\"test_set_x\"][:]) # your test set features\n",
    "    test_set_y_orig = np.array(test_dataset[\"test_set_y\"][:]) # your test set labels\n",
    "\n",
    "    classes = np.array(test_dataset[\"list_classes\"][:]) # the list of classes\n",
    "    \n",
    "    train_set_y_orig = train_set_y_orig.reshape((1, train_set_y_orig.shape[0]))\n",
    "    test_set_y_orig = test_set_y_orig.reshape((1, test_set_y_orig.shape[0]))\n",
    "    \n",
    "    return train_set_x_orig, train_set_y_orig, test_set_x_orig, test_set_y_orig, classes"
   ]
  },
  {
   "cell_type": "markdown",
   "metadata": {
    "id": "5LGNMXrRkfp0"
   },
   "source": [
    "Run the next cell to load the dataset you are going to use."
   ]
  },
  {
   "cell_type": "code",
   "execution_count": 20,
   "metadata": {
    "id": "3EEWPVe6kfp0"
   },
   "outputs": [],
   "source": [
    "# Loading the data (signs)\n",
    "X_train_orig, Y_train_orig, X_test_orig, Y_test_orig, classes = load_dataset()"
   ]
  },
  {
   "cell_type": "markdown",
   "metadata": {
    "id": "Ez2JKMlIkfp1"
   },
   "source": [
    "The next cell will show you an example of a labelled image in the dataset. Feel free to change the value of `index` below and re-run to see different examples. "
   ]
  },
  {
   "cell_type": "code",
   "execution_count": 21,
   "metadata": {
    "colab": {
     "base_uri": "https://localhost:8080/",
     "height": 302
    },
    "id": "_TenyZfFkfp1",
    "outputId": "0d5ddd27-ec6d-435f-b26c-701c06c6e77d"
   },
   "outputs": [
    {
     "name": "stdout",
     "output_type": "stream",
     "text": [
      "y = 5\n",
      "[0 1 2 3 4 5]\n"
     ]
    },
    {
     "data": {
      "image/png": "[encoded data removed]",
      "text/plain": [
       "<Figure size 640x480 with 1 Axes>"
      ]
     },
     "metadata": {},
     "output_type": "display_data"
    }
   ],
   "source": [
    "# Example of a picture\n",
    "index = 300\n",
    "plt.imshow(X_train_orig[index])\n",
    "print (\"y = \" + str(np.squeeze(Y_train_orig[:, index])))\n",
    "print (classes)"
   ]
  },
  {
   "cell_type": "markdown",
   "metadata": {
    "id": "z5i-v-BNkfp2"
   },
   "source": [
    "From now implemnt your model. After that use transfer learning.\n",
    "Please add cells and explain yours developing steps and your results.\n",
    "\n",
    "استفاده از زبان فارسی برای توضیحات هم مجاز است\n",
    "\n",
    "موفق باشید"
   ]
  },
  {
   "cell_type": "code",
   "execution_count": null,
   "metadata": {
    "id": "g28BS7ZMluAg"
   },
   "outputs": [],
   "source": [
    "!pip install dataprep\n",
    "!pip install pytorch_lightning"
   ]
  },
  {
   "cell_type": "code",
   "execution_count": 22,
   "metadata": {
    "id": "IzCnv0m6kfp3"
   },
   "outputs": [],
   "source": [
    "import pandas as pd\n",
    "from dataprep.eda import create_report\n",
    "from dataprep.eda import plot_missing\n",
    "from dataprep.eda import plot_correlation\n",
    "from dataprep.eda import plot\n",
    "import torch \n",
    "from torch import nn \n",
    "import pytorch_lightning as pl \n",
    "import torch.nn.functional as F \n",
    "from torchvision import datasets, transforms \n",
    "from torch.utils.data import DataLoader, Subset, Dataset\n",
    "from torch.optim import SGD \n",
    "from pytorch_lightning import Trainer, loggers\n",
    "from PIL import Image\n",
    "#from torchsummary import summary"
   ]
  },
  {
   "cell_type": "code",
   "execution_count": 23,
   "metadata": {
    "id": "JCu1CGYpkfp3"
   },
   "outputs": [],
   "source": [
    "# normalization constants\n",
    "MEAN = torch.tensor([0.5,0.5,0.5], dtype=torch.float32)\n",
    "STD = torch.tensor([0.5,0.5,0.5], dtype=torch.float32)"
   ]
  },
  {
   "cell_type": "code",
   "execution_count": 36,
   "metadata": {
    "colab": {
     "base_uri": "https://localhost:8080/"
    },
    "id": "hK24SWS-kfp3",
    "outputId": "f9642083-2b88-4d66-a1de-dbdab331e5e9"
   },
   "outputs": [
    {
     "data": {
      "text/plain": [
       "<bound method NDFrame.head of       0\n",
       "0     5\n",
       "1     0\n",
       "2     2\n",
       "3     5\n",
       "4     2\n",
       "...  ..\n",
       "1075  3\n",
       "1076  1\n",
       "1077  2\n",
       "1078  4\n",
       "1079  5\n",
       "\n",
       "[1080 rows x 1 columns]>"
      ]
     },
     "execution_count": 36,
     "metadata": {},
     "output_type": "execute_result"
    }
   ],
   "source": [
    "a = pd.DataFrame(Y_train_orig.T)\n",
    "a.head"
   ]
  },
  {
   "cell_type": "code",
   "execution_count": 26,
   "metadata": {
    "colab": {
     "base_uri": "https://localhost:8080/"
    },
    "id": "HtxDFRdJkfp4",
    "outputId": "5e8c6213-8f7b-4012-9df4-bee39a30391f"
   },
   "outputs": [
    {
     "name": "stdout",
     "output_type": "stream",
     "text": [
      "(64, 64, 3)\n",
      "(1080, 64, 64, 3)\n",
      "(1080,)\n",
      "(120, 64, 64, 3)\n",
      "(120,)\n"
     ]
    }
   ],
   "source": [
    "print(X_train_orig[index].shape)\n",
    "print(X_train_orig.shape)\n",
    "print(Y_train_orig.shape)\n",
    "print(X_test_orig.shape)\n",
    "print(Y_test_orig.shape)"
   ]
  },
  {
   "cell_type": "code",
   "execution_count": 25,
   "metadata": {
    "id": "DC07FLvsp7e_"
   },
   "outputs": [],
   "source": [
    "Y_train_orig = Y_train_orig.T\n",
    "Y_test_orig = Y_test_orig.T\n",
    "Y_train_orig = Y_train_orig.squeeze()\n",
    "Y_test_orig = Y_test_orig.squeeze()"
   ]
  },
  {
   "cell_type": "markdown",
   "metadata": {
    "id": "OGon0Qatkfp5"
   },
   "source": [
    "Training Dataset Consists of 1080 photos of 64x64x3 images in 5 classes"
   ]
  },
  {
   "cell_type": "code",
   "execution_count": 27,
   "metadata": {},
   "outputs": [],
   "source": [
    "from fix import MyDataset"
   ]
  },
  {
   "cell_type": "code",
   "execution_count": 32,
   "metadata": {},
   "outputs": [],
   "source": [
    "transform = transforms.Compose(\n",
    "            [\n",
    "                transforms.Resize(32),\n",
    "                transforms.CenterCrop(32),\n",
    "                transforms.ToTensor(),\n",
    "                transforms.Normalize(MEAN.tolist(), STD.tolist()),\n",
    "            ]\n",
    "        )"
   ]
  },
  {
   "cell_type": "code",
   "execution_count": 33,
   "metadata": {},
   "outputs": [],
   "source": [
    "Train_dataset = MyDataset(X_train_orig, Y_train_orig, transform=transform)\n",
    "Test_dataset = MyDataset(X_test_orig, Y_test_orig, transform=transform)"
   ]
  },
  {
   "cell_type": "code",
   "execution_count": 144,
   "metadata": {
    "id": "tyenrnSzkfp5"
   },
   "outputs": [],
   "source": [
    "class CNN(pl.LightningModule): \n",
    "    def __init__(self,trd,ted): \n",
    "        #super(model, self).__init__() \n",
    "        super().__init__()\n",
    "        self.hparams['data_root'] = \"data\"\n",
    "        self.hparams['log_dir'] = \"logs\"\n",
    "        self.hparams['num_workers'] = 4\n",
    "        self.hparams['image_size'] = 32\n",
    "        self.hparams['max_epochs'] = 100\n",
    "        self.hparams['batch_size'] = 100\n",
    "        self.hparams['nc'] = 3\n",
    "        self.hparams['nz'] = 512\n",
    "        self.hparams['nfc'] = 16\n",
    "        self.hparams['nfm'] = 6\n",
    "        self.hparams['lr'] = 0.005\n",
    "        self.hparams['gpus'] = 1\n",
    "        self.criterion = nn.CrossEntropyLoss() \n",
    "        self.trd = trd\n",
    "        self.ted = ted\n",
    "        \n",
    "        self.MLP = nn.Sequential(\n",
    "            #nn.Linear(self.hparams.nz, 64),\n",
    "            #nn.ReLU(),\n",
    "            \n",
    "            #nn.Dropout(0.3),\n",
    "            #nn.Linear(64, 16),\n",
    "            #nn.ReLU(),\n",
    "            #nn.Dropout(0.3),\n",
    "            \n",
    "            #nn.Linear(64, self.hparams.nfm),\n",
    "            nn.Linear(self.hparams.nz, self.hparams.nfm),\n",
    "            nn.Sigmoid(),\n",
    "            )\n",
    "        \n",
    "        self.CNN = nn.Sequential(\n",
    "            nn.Conv2d(self.hparams.nc, self.hparams.nfc, 4, 2, 1, bias=False),#nc*32*32 --> 16*16*32\n",
    "            nn.ReLU(),\n",
    "            nn.MaxPool2d(2, 2),#8*8*32\n",
    "            nn.Conv2d(self.hparams.nfc, self.hparams.nfc * 2, 4, 2, 1, bias=False), #4*4*64\n",
    "            nn.ReLU(),\n",
    "            \n",
    "            #nn.AvgPool2d(4, 4),#1*64\n",
    "            \n",
    "            #nn.MaxPool2d(2, 2),\n",
    "            #nn.Conv2d(self.hparams.nfc*2, self.hparams.nfc * 4, 2, 1, 0, bias=False), #1*1*128\n",
    "            #nn.ReLU(),\n",
    "        )\n",
    "        \n",
    "\n",
    "    \n",
    "    def forward(self, x): \n",
    "        batch_size, _, _, _ = x.size()\n",
    "        x = self.CNN(x)\n",
    "        x = x.view(-1,self.hparams.nz)\n",
    "        x = self.MLP(x)\n",
    "        return x \n",
    "    \n",
    "    def configure_optimizers(self): \n",
    "        #return torch.optim.SGD(self.parameters(), lr=self.hparams.lr, momentum= 0.1) \n",
    "        return torch.optim.Adam(self.parameters(), lr=self.hparams.lr)\n",
    "    \n",
    "\n",
    "    def training_step(self, train_batch, batch_idx): \n",
    "        x, y = train_batch \n",
    "        output = self.forward(x) \n",
    "        \n",
    "        encoded_labels = torch.zeros(len(y),6)\n",
    "        for i in range(len(y)):\n",
    "          encoded_labels[i][(y[i])]=1\n",
    "        encoded_labels = encoded_labels.to('mps')\n",
    "        \n",
    "        loss = self.criterion(output, encoded_labels) \n",
    "        \n",
    "        logs = {\"loss\": loss}\n",
    "        return {\"loss\": loss, \"log\": logs}\n",
    "    \n",
    "    def validation_step(self, valid_batch, batch_idx): \n",
    "        x, y = valid_batch \n",
    "        output = self.forward(x) \n",
    "        \n",
    "        encoded_labels = torch.zeros(len(y),6)\n",
    "        for i in range(len(y)):\n",
    "          encoded_labels[i][(y[i])]=1\n",
    "        encoded_labels = encoded_labels.to('mps')\n",
    "        \n",
    "        loss = self.criterion(output, encoded_labels)\n",
    "        \n",
    "        logs = {\"val_loss\": loss}\n",
    "        return {\"val_loss\": loss, \"log\": logs}\n",
    "    \n",
    "    def validation_epoch_end(self, outputs):\n",
    "        avg_loss = torch.stack([x[\"val_loss\"] for x in outputs]).mean()\n",
    "        logs = {\"avg_val_loss\": avg_loss}\n",
    "        return {\"avg_val_loss\": avg_loss, \"log\": logs}\n",
    "    \n",
    "    def test_step(self, test_batch, batch_idx):\n",
    "        x, y = test_batch\n",
    "        output = self.forward(x)\n",
    "        \n",
    "        encoded_labels = torch.zeros(len(y),6)\n",
    "        for i in range(len(y)):\n",
    "          encoded_labels[i][(y[i])]=1\n",
    "        encoded_labels = encoded_labels.to('mps')\n",
    "        \n",
    "        loss = self.criterion(output, encoded_labels)\n",
    "\n",
    "        logs = {\"test_loss\": loss}\n",
    "        return {\"test_loss\": loss, \"log\": logs}\n",
    "    \n",
    "    def test_epoch_end(self, outputs):\n",
    "        avg_loss = torch.stack([x[\"test_loss\"] for x in outputs]).mean()\n",
    "        logs = {\"avg_test_loss\": avg_loss}\n",
    "        return {\"avg_test_loss\": avg_loss, \"log\": logs}\n",
    "        \n",
    "    def prepare_data(self):\n",
    "        transform = transforms.Compose(\n",
    "            [\n",
    "                transforms.Resize(self.hparams.image_size),\n",
    "                transforms.CenterCrop(self.hparams.image_size),\n",
    "                transforms.ToTensor(),\n",
    "                transforms.Normalize(MEAN.tolist(), STD.tolist()),\n",
    "            ]\n",
    "        )\n",
    "        \n",
    "        #Train_dataset = MyDataset(X_train_orig, Y_train_orig, transform=transform)\n",
    "        #Test_dataset = MyDataset(X_test_orig, Y_test_orig, transform=transform)\n",
    "        Train_dataset = self.trd\n",
    "        Test_dataset = self.ted\n",
    " \n",
    "        # train, val and test split\n",
    "        end_train_idx = 850\n",
    "        end_val_idx = len(Train_dataset)\n",
    "\n",
    "        self.train_dataset = Subset(Train_dataset, range(0, end_train_idx))\n",
    "        self.val_dataset = Subset(Train_dataset, range(end_train_idx + 1, end_val_idx))\n",
    "        self.test_dataset = Test_dataset\n",
    "        \n",
    "    def train_dataloader(self):\n",
    "        return DataLoader(\n",
    "            self.train_dataset, batch_size=self.hparams.batch_size, shuffle=True, num_workers=self.hparams.num_workers\n",
    "        )\n",
    "\n",
    "    def val_dataloader(self):\n",
    "        return DataLoader(\n",
    "            self.val_dataset, batch_size=self.hparams.batch_size, num_workers=self.hparams.num_workers\n",
    "        )\n",
    "\n",
    "    def test_dataloader(self):\n",
    "        return DataLoader(\n",
    "            self.test_dataset, batch_size=self.hparams.batch_size, num_workers=self.hparams.num_workers\n",
    "        )"
   ]
  },
  {
   "cell_type": "code",
   "execution_count": null,
   "metadata": {
    "colab": {
     "base_uri": "https://localhost:8080/",
     "height": 1000,
     "referenced_widgets": [
      "be9a95ccba5f46f8a5ad81e02898b618",
      "406685c221eb4ab8828405644393769a",
      "3e4f8e9a1725459f8eee5463e7c8c1d0",
      "cca6636a4e0143a2a92b83da3c30ec83",
      "569ff9b5a43449798d76372d954f6ed4",
      "fd1909edc49b4b0d9854a0ff8d1eb4e8",
      "4fe1d9ecca494f0aa94ce1e3b988922d",
      "ec4e995f22c74c76840568b2ffc4d177",
      "7e8c67d2f902462984f24e48c939ae3d",
      "4a848aa9e5ae44c0a129d55c80ef1b06",
      "3c895c3f08824ed888630dfe3d78de77"
     ]
    },
    "id": "_pIydVdOkfp6",
    "outputId": "8644a2ca-f586-47fd-c70a-5b857d914e96"
   },
   "outputs": [],
   "source": [
    "#test current config with nf=16\n",
    "clf = CNN(Train_dataset,Test_dataset)\n",
    "logger = loggers.TensorBoardLogger(clf.hparams.log_dir, name=f\"bs{clf.hparams.batch_size}_nf{clf.hparams.nfc}\", log_every_n_steps=10)\n",
    "\n",
    "# print detailed summary with estimated network size\n",
    "#summary(clf, (clf.hparams.nc, clf.hparams.image_size, clf.hparams.image_size), device=\"cpu\")\n",
    "\n",
    "trainer = Trainer(logger = logger, accelerator='mps', devices=clf.hparams.gpus, max_epochs=clf.hparams.max_epochs)\n",
    "trainer.fit(clf)"
   ]
  },
  {
   "cell_type": "code",
   "execution_count": 146,
   "metadata": {
    "id": "hbEtb9GRkfp7"
   },
   "outputs": [],
   "source": [
    "torch.save(clf.state_dict(), 'outputs/CNN16SL.pth')"
   ]
  },
  {
   "cell_type": "code",
   "execution_count": 147,
   "metadata": {
    "id": "P4bmFF5dkfp7"
   },
   "outputs": [
    {
     "data": {
      "application/vnd.jupyter.widget-view+json": {
       "model_id": "6e5356c5437a460181d3b1caa89d3008",
       "version_major": 2,
       "version_minor": 0
      },
      "text/plain": [
       "Testing: 0it [00:00, ?it/s]"
      ]
     },
     "metadata": {},
     "output_type": "display_data"
    },
    {
     "data": {
      "text/plain": [
       "[{}]"
      ]
     },
     "execution_count": 147,
     "metadata": {},
     "output_type": "execute_result"
    }
   ],
   "source": [
    "trainer.test(clf)"
   ]
  },
  {
   "cell_type": "code",
   "execution_count": 148,
   "metadata": {},
   "outputs": [],
   "source": [
    "test_dataloader = DataLoader(clf.test_dataset,batch_size = 120)\n",
    "test_features, test_labels = next(iter(test_dataloader))\n",
    "a=clf(test_features)\n",
    "predicted = torch.max(a, 1)[1]"
   ]
  },
  {
   "cell_type": "code",
   "execution_count": 149,
   "metadata": {},
   "outputs": [
    {
     "name": "stdout",
     "output_type": "stream",
     "text": [
      "[[20  0  0  0  0  0]\n",
      " [ 0 19  1  0  0  0]\n",
      " [ 0  2 16  0  0  2]\n",
      " [ 0  0  0 20  0  0]\n",
      " [ 0  0  0  2 17  1]\n",
      " [ 0  0  0  0  0 20]]\n",
      "              precision    recall  f1-score   support\n",
      "\n",
      "           0       1.00      1.00      1.00        20\n",
      "           1       0.90      0.95      0.93        20\n",
      "           2       0.94      0.80      0.86        20\n",
      "           3       0.91      1.00      0.95        20\n",
      "           4       1.00      0.85      0.92        20\n",
      "           5       0.87      1.00      0.93        20\n",
      "\n",
      "    accuracy                           0.93       120\n",
      "   macro avg       0.94      0.93      0.93       120\n",
      "weighted avg       0.94      0.93      0.93       120\n",
      "\n"
     ]
    }
   ],
   "source": [
    "from sklearn.metrics import confusion_matrix, classification_report\n",
    "print(confusion_matrix(test_labels,predicted))\n",
    "print(classification_report(test_labels,predicted))"
   ]
  },
  {
   "cell_type": "code",
   "execution_count": null,
   "metadata": {},
   "outputs": [],
   "source": [
    "#CNN with 4*4*64 output --> 93% Accurate and faster training\n",
    "#CNN with 1*1*64 output after avgpool --> 88% Accurate and longer training\n",
    "#4*4*64 CNN + MLP with sigmoid at the end, plateus as 1.05 loss --> 95% accuracy. all below use this MLP config\n",
    "#CNN+ with 1*1*128 output after maxpool,conv2d,relu --> plateu at 30 epoch and 1.1 loss --> 77% accuracy! (f1 scores for one and two fingers are very low due to being lost in the last layer)\n",
    "#CNN with 4*4*16 output --> plateu at 35 epoch at 1.11 loss --> 81% accuracy\n",
    "#CNN16 with 4*4*32 output --> plateu at 40 epochs at 1.05 loss --> 94% accuracy\n",
    "#CNN16 with 4*4*32 output passed to a single linear network + sigmoid --> plateu at 50 epochs at 1.06 loss --> 93% accuracy\n",
    "\n",
    "#Lightest accurate model was CNN16 + single linear + sigmoid"
   ]
  },
  {
   "cell_type": "code",
   "execution_count": null,
   "metadata": {
    "id": "WOWSnsxzkfp8"
   },
   "outputs": [],
   "source": [
    "clf = CNN(Train_dataset,Test_dataset)\n",
    "clf.load_state_dict(torch.load('outputs/CNN.pth', map_location=torch.device('mps')))\n",
    "clf.eval()"
   ]
  }
 ],
 "metadata": {
  "accelerator": "GPU",
  "colab": {
   "provenance": []
  },
  "gpuClass": "standard",
  "kernelspec": {
   "display_name": "Python 3 (ipykernel)",
   "language": "python",
   "name": "python3"
  },
  "language_info": {
   "codemirror_mode": {
    "name": "ipython",
    "version": 3
   },
   "file_extension": ".py",
   "mimetype": "text/x-python",
   "name": "python",
   "nbconvert_exporter": "python",
   "pygments_lexer": "ipython3",
   "version": "3.9.13"
  },
  "widgets": {
   "application/vnd.jupyter.widget-state+json": {
    "3c895c3f08824ed888630dfe3d78de77": {
     "model_module": "@jupyter-widgets/controls",
     "model_module_version": "1.5.0",
     "model_name": "DescriptionStyleModel",
     "state": {
      "_model_module": "@jupyter-widgets/controls",
      "_model_module_version": "1.5.0",
      "_model_name": "DescriptionStyleModel",
      "_view_count": null,
      "_view_module": "@jupyter-widgets/base",
      "_view_module_version": "1.2.0",
      "_view_name": "StyleView",
      "description_width": ""
     }
    },
    "3e4f8e9a1725459f8eee5463e7c8c1d0": {
     "model_module": "@jupyter-widgets/controls",
     "model_module_version": "1.5.0",
     "model_name": "FloatProgressModel",
     "state": {
      "_dom_classes": [],
      "_model_module": "@jupyter-widgets/controls",
      "_model_module_version": "1.5.0",
      "_model_name": "FloatProgressModel",
      "_view_count": null,
      "_view_module": "@jupyter-widgets/controls",
      "_view_module_version": "1.5.0",
      "_view_name": "ProgressView",
      "bar_style": "",
      "description": "",
      "description_tooltip": null,
      "layout": "IPY_MODEL_ec4e995f22c74c76840568b2ffc4d177",
      "max": 2,
      "min": 0,
      "orientation": "horizontal",
      "style": "IPY_MODEL_7e8c67d2f902462984f24e48c939ae3d",
      "value": 0
     }
    },
    "406685c221eb4ab8828405644393769a": {
     "model_module": "@jupyter-widgets/controls",
     "model_module_version": "1.5.0",
     "model_name": "HTMLModel",
     "state": {
      "_dom_classes": [],
      "_model_module": "@jupyter-widgets/controls",
      "_model_module_version": "1.5.0",
      "_model_name": "HTMLModel",
      "_view_count": null,
      "_view_module": "@jupyter-widgets/controls",
      "_view_module_version": "1.5.0",
      "_view_name": "HTMLView",
      "description": "",
      "description_tooltip": null,
      "layout": "IPY_MODEL_fd1909edc49b4b0d9854a0ff8d1eb4e8",
      "placeholder": "​",
      "style": "IPY_MODEL_4fe1d9ecca494f0aa94ce1e3b988922d",
      "value": "Sanity Checking DataLoader 0:   0%"
     }
    },
    "4a848aa9e5ae44c0a129d55c80ef1b06": {
     "model_module": "@jupyter-widgets/base",
     "model_module_version": "1.2.0",
     "model_name": "LayoutModel",
     "state": {
      "_model_module": "@jupyter-widgets/base",
      "_model_module_version": "1.2.0",
      "_model_name": "LayoutModel",
      "_view_count": null,
      "_view_module": "@jupyter-widgets/base",
      "_view_module_version": "1.2.0",
      "_view_name": "LayoutView",
      "align_content": null,
      "align_items": null,
      "align_self": null,
      "border": null,
      "bottom": null,
      "display": null,
      "flex": null,
      "flex_flow": null,
      "grid_area": null,
      "grid_auto_columns": null,
      "grid_auto_flow": null,
      "grid_auto_rows": null,
      "grid_column": null,
      "grid_gap": null,
      "grid_row": null,
      "grid_template_areas": null,
      "grid_template_columns": null,
      "grid_template_rows": null,
      "height": null,
      "justify_content": null,
      "justify_items": null,
      "left": null,
      "margin": null,
      "max_height": null,
      "max_width": null,
      "min_height": null,
      "min_width": null,
      "object_fit": null,
      "object_position": null,
      "order": null,
      "overflow": null,
      "overflow_x": null,
      "overflow_y": null,
      "padding": null,
      "right": null,
      "top": null,
      "visibility": null,
      "width": null
     }
    },
    "4fe1d9ecca494f0aa94ce1e3b988922d": {
     "model_module": "@jupyter-widgets/controls",
     "model_module_version": "1.5.0",
     "model_name": "DescriptionStyleModel",
     "state": {
      "_model_module": "@jupyter-widgets/controls",
      "_model_module_version": "1.5.0",
      "_model_name": "DescriptionStyleModel",
      "_view_count": null,
      "_view_module": "@jupyter-widgets/base",
      "_view_module_version": "1.2.0",
      "_view_name": "StyleView",
      "description_width": ""
     }
    },
    "569ff9b5a43449798d76372d954f6ed4": {
     "model_module": "@jupyter-widgets/base",
     "model_module_version": "1.2.0",
     "model_name": "LayoutModel",
     "state": {
      "_model_module": "@jupyter-widgets/base",
      "_model_module_version": "1.2.0",
      "_model_name": "LayoutModel",
      "_view_count": null,
      "_view_module": "@jupyter-widgets/base",
      "_view_module_version": "1.2.0",
      "_view_name": "LayoutView",
      "align_content": null,
      "align_items": null,
      "align_self": null,
      "border": null,
      "bottom": null,
      "display": "inline-flex",
      "flex": null,
      "flex_flow": "row wrap",
      "grid_area": null,
      "grid_auto_columns": null,
      "grid_auto_flow": null,
      "grid_auto_rows": null,
      "grid_column": null,
      "grid_gap": null,
      "grid_row": null,
      "grid_template_areas": null,
      "grid_template_columns": null,
      "grid_template_rows": null,
      "height": null,
      "justify_content": null,
      "justify_items": null,
      "left": null,
      "margin": null,
      "max_height": null,
      "max_width": null,
      "min_height": null,
      "min_width": null,
      "object_fit": null,
      "object_position": null,
      "order": null,
      "overflow": null,
      "overflow_x": null,
      "overflow_y": null,
      "padding": null,
      "right": null,
      "top": null,
      "visibility": null,
      "width": "100%"
     }
    },
    "7e8c67d2f902462984f24e48c939ae3d": {
     "model_module": "@jupyter-widgets/controls",
     "model_module_version": "1.5.0",
     "model_name": "ProgressStyleModel",
     "state": {
      "_model_module": "@jupyter-widgets/controls",
      "_model_module_version": "1.5.0",
      "_model_name": "ProgressStyleModel",
      "_view_count": null,
      "_view_module": "@jupyter-widgets/base",
      "_view_module_version": "1.2.0",
      "_view_name": "StyleView",
      "bar_color": null,
      "description_width": ""
     }
    },
    "be9a95ccba5f46f8a5ad81e02898b618": {
     "model_module": "@jupyter-widgets/controls",
     "model_module_version": "1.5.0",
     "model_name": "HBoxModel",
     "state": {
      "_dom_classes": [],
      "_model_module": "@jupyter-widgets/controls",
      "_model_module_version": "1.5.0",
      "_model_name": "HBoxModel",
      "_view_count": null,
      "_view_module": "@jupyter-widgets/controls",
      "_view_module_version": "1.5.0",
      "_view_name": "HBoxView",
      "box_style": "",
      "children": [
       "IPY_MODEL_406685c221eb4ab8828405644393769a",
       "IPY_MODEL_3e4f8e9a1725459f8eee5463e7c8c1d0",
       "IPY_MODEL_cca6636a4e0143a2a92b83da3c30ec83"
      ],
      "layout": "IPY_MODEL_569ff9b5a43449798d76372d954f6ed4"
     }
    },
    "cca6636a4e0143a2a92b83da3c30ec83": {
     "model_module": "@jupyter-widgets/controls",
     "model_module_version": "1.5.0",
     "model_name": "HTMLModel",
     "state": {
      "_dom_classes": [],
      "_model_module": "@jupyter-widgets/controls",
      "_model_module_version": "1.5.0",
      "_model_name": "HTMLModel",
      "_view_count": null,
      "_view_module": "@jupyter-widgets/controls",
      "_view_module_version": "1.5.0",
      "_view_name": "HTMLView",
      "description": "",
      "description_tooltip": null,
      "layout": "IPY_MODEL_4a848aa9e5ae44c0a129d55c80ef1b06",
      "placeholder": "​",
      "style": "IPY_MODEL_3c895c3f08824ed888630dfe3d78de77",
      "value": " 0/2 [00:00&lt;?, ?it/s]"
     }
    },
    "ec4e995f22c74c76840568b2ffc4d177": {
     "model_module": "@jupyter-widgets/base",
     "model_module_version": "1.2.0",
     "model_name": "LayoutModel",
     "state": {
      "_model_module": "@jupyter-widgets/base",
      "_model_module_version": "1.2.0",
      "_model_name": "LayoutModel",
      "_view_count": null,
      "_view_module": "@jupyter-widgets/base",
      "_view_module_version": "1.2.0",
      "_view_name": "LayoutView",
      "align_content": null,
      "align_items": null,
      "align_self": null,
      "border": null,
      "bottom": null,
      "display": null,
      "flex": "2",
      "flex_flow": null,
      "grid_area": null,
      "grid_auto_columns": null,
      "grid_auto_flow": null,
      "grid_auto_rows": null,
      "grid_column": null,
      "grid_gap": null,
      "grid_row": null,
      "grid_template_areas": null,
      "grid_template_columns": null,
      "grid_template_rows": null,
      "height": null,
      "justify_content": null,
      "justify_items": null,
      "left": null,
      "margin": null,
      "max_height": null,
      "max_width": null,
      "min_height": null,
      "min_width": null,
      "object_fit": null,
      "object_position": null,
      "order": null,
      "overflow": null,
      "overflow_x": null,
      "overflow_y": null,
      "padding": null,
      "right": null,
      "top": null,
      "visibility": null,
      "width": null
     }
    },
    "fd1909edc49b4b0d9854a0ff8d1eb4e8": {
     "model_module": "@jupyter-widgets/base",
     "model_module_version": "1.2.0",
     "model_name": "LayoutModel",
     "state": {
      "_model_module": "@jupyter-widgets/base",
      "_model_module_version": "1.2.0",
      "_model_name": "LayoutModel",
      "_view_count": null,
      "_view_module": "@jupyter-widgets/base",
      "_view_module_version": "1.2.0",
      "_view_name": "LayoutView",
      "align_content": null,
      "align_items": null,
      "align_self": null,
      "border": null,
      "bottom": null,
      "display": null,
      "flex": null,
      "flex_flow": null,
      "grid_area": null,
      "grid_auto_columns": null,
      "grid_auto_flow": null,
      "grid_auto_rows": null,
      "grid_column": null,
      "grid_gap": null,
      "grid_row": null,
      "grid_template_areas": null,
      "grid_template_columns": null,
      "grid_template_rows": null,
      "height": null,
      "justify_content": null,
      "justify_items": null,
      "left": null,
      "margin": null,
      "max_height": null,
      "max_width": null,
      "min_height": null,
      "min_width": null,
      "object_fit": null,
      "object_position": null,
      "order": null,
      "overflow": null,
      "overflow_x": null,
      "overflow_y": null,
      "padding": null,
      "right": null,
      "top": null,
      "visibility": null,
      "width": null
     }
    }
   }
  }
 },
 "nbformat": 4,
 "nbformat_minor": 4
}
